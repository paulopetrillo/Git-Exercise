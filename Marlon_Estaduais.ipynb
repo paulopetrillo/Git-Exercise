{
  "nbformat": 4,
  "nbformat_minor": 0,
  "metadata": {
    "colab": {
      "provenance": [],
      "authorship_tag": "ABX9TyMX/kOJeOBtQYqPWS11MXE6",
      "include_colab_link": true
    },
    "kernelspec": {
      "name": "python3",
      "display_name": "Python 3"
    },
    "language_info": {
      "name": "python"
    }
  },
  "cells": [
    {
      "cell_type": "markdown",
      "metadata": {
        "id": "view-in-github",
        "colab_type": "text"
      },
      "source": [
        "<a href=\"https://colab.research.google.com/github/paulopetrillo/Git-Exercise/blob/master/Marlon_Estaduais.ipynb\" target=\"_parent\"><img src=\"https://colab.research.google.com/assets/colab-badge.svg\" alt=\"Open In Colab\"/></a>"
      ]
    },
    {
      "cell_type": "code",
      "execution_count": 1,
      "metadata": {
        "colab": {
          "base_uri": "https://localhost:8080/"
        },
        "id": "TTmBwHF08mpz",
        "outputId": "5fe917a5-3e56-40a3-f114-8c214c623a41"
      },
      "outputs": [
        {
          "output_type": "stream",
          "name": "stdout",
          "text": [
            "1.23.5\n"
          ]
        }
      ],
      "source": [
        "# importa a biblioteca numpy\n",
        "import numpy as np\n",
        "print(np.__version__)"
      ]
    },
    {
      "cell_type": "code",
      "source": [
        "# importa biblioteca Pandas.\n",
        "import pandas as pd\n",
        "from google.colab import drive\n",
        "print(pd.__version__)"
      ],
      "metadata": {
        "colab": {
          "base_uri": "https://localhost:8080/"
        },
        "id": "MYw5cZqw9T8A",
        "outputId": "212ed46a-e107-4e73-8bcf-6b9fb08a67eb"
      },
      "execution_count": 2,
      "outputs": [
        {
          "output_type": "stream",
          "name": "stdout",
          "text": [
            "1.5.3\n"
          ]
        }
      ]
    },
    {
      "cell_type": "code",
      "source": [
        "# from google.colab import drive\n",
        "drive.mount('/content/drive')"
      ],
      "metadata": {
        "colab": {
          "base_uri": "https://localhost:8080/"
        },
        "id": "UH4X4Zjl9WHg",
        "outputId": "5d23ecac-e672-4f14-ceb8-41b4e1e32b0d"
      },
      "execution_count": 3,
      "outputs": [
        {
          "output_type": "stream",
          "name": "stdout",
          "text": [
            "Mounted at /content/drive\n"
          ]
        }
      ]
    },
    {
      "cell_type": "code",
      "source": [
        "DF_Acreano   = pd.read_csv(\"/content/drive/MyDrive/Marlon_Cesar_Santos_Oliveira/Campeonatos Estaduais - Acreano_Valor.csv\", header=0, sep=\",\")\n",
        "DF_Amapaense = pd.read_csv(\"/content/drive/MyDrive/Marlon_Cesar_Santos_Oliveira/Campeonatos Estaduais - Amapaense_Valor.csv\", header=0, sep=\",\")\n",
        "DF_Alagoano  = pd.read_csv(\"/content/drive/MyDrive/Marlon_Cesar_Santos_Oliveira/Campeonatos Estaduais - Alagoano_Valor.csv\", header=0, sep=\",\")\n",
        "DF_Amazonense = pd.read_csv(\"/content/drive/MyDrive/Marlon_Cesar_Santos_Oliveira/Campeonatos Estaduais - Amazonense_Valor.csv\", header=0, sep=\",\")\n",
        "DF_Baiano     = pd.read_csv(\"/content/drive/MyDrive/Marlon_Cesar_Santos_Oliveira/Campeonatos Estaduais - Baiano_Valor.csv\", header=0, sep=\",\")\n",
        "DF_Brasiliense = pd.read_csv(\"/content/drive/MyDrive/Marlon_Cesar_Santos_Oliveira/Campeonatos Estaduais - Brasiliense_Valor.csv\", header=0, sep=\",\")\n",
        "DF_Carioca     = pd.read_csv(\"/content/drive/MyDrive/Marlon_Cesar_Santos_Oliveira/Campeonatos Estaduais - Carioca_Valor.csv\", header=0, sep=\",\")\n",
        "# DF_Catarinense = pd.read_csv(\"/content/drive/MyDrive/Marlon_Cesar_Santos_Oliveira/Campeonatos Estaduais - Catarinense.csv\", header=0, sep=\";\")\n",
        "DF_Cearense = pd.read_csv(\"/content/drive/MyDrive/Marlon_Cesar_Santos_Oliveira/Campeonatos Estaduais - Cearense_Valor.csv\", header=0, sep=\",\")\n",
        "# DF_Gaucho = pd.read_csv(\"/content/drive/MyDrive/Marlon_Cesar_Santos_Oliveira/Campeonatos Estaduais - Gaucho.csv\", header=0, sep=\";\")\n",
        "DF_Goiano   = pd.read_csv(\"/content/drive/MyDrive/Marlon_Cesar_Santos_Oliveira/Campeonatos Estaduais - Goiano_Valor.csv\", header=0, sep=\",\")\n",
        "DF_Paulista = pd.read_csv(\"/content/drive/MyDrive/Marlon_Cesar_Santos_Oliveira/Campeonatos Estaduais - Paulista_Valor.csv\", header=0, sep=\",\")\n",
        "DF_Pernanbucano = pd.read_csv(\"/content/drive/MyDrive/Marlon_Cesar_Santos_Oliveira/Campeonatos Estaduais - Pernanbucano_Valor.csv\", header=0, sep=\",\")\n",
        "DF_Paranaense = pd.read_csv(\"/content/drive/MyDrive/Marlon_Cesar_Santos_Oliveira/Campeonatos Estaduais - Paranaense_Valor.csv\", header=0, sep=\",\")"
      ],
      "metadata": {
        "id": "11qLUZDj-Kyd"
      },
      "execution_count": 4,
      "outputs": []
    },
    {
      "cell_type": "code",
      "source": [
        "DF_Paranaense = pd.read_csv(\"/content/drive/MyDrive/Marlon_Cesar_Santos_Oliveira/Campeonatos Estaduais - Paranaense_Valor.csv\", header=0, sep=\",\")\n",
        "Array_DF_Estaduais = [DF_Acreano, DF_Alagoano, DF_Amapaense, DF_Amazonense, DF_Baiano, DF_Brasiliense,\n",
        "                      DF_Carioca, DF_Cearense, DF_Goiano, DF_Paulista, DF_Pernanbucano, DF_Paranaense]\n",
        "# Array_DF_Estaduais"
      ],
      "metadata": {
        "id": "YxMX4LMHM30X"
      },
      "execution_count": 5,
      "outputs": []
    },
    {
      "cell_type": "code",
      "source": [
        "# for i in range[0:len(Array_DF_Estaduais)]:\n",
        "#   print(Array_DF_Estaduais[i].head())\n",
        "# DF_Alagoano = pd.read_csv(\"/content/drive/MyDrive/Marlon_Cesar_Santos_Oliveira/Campeonatos Estaduais - Alagoano_Valor.csv\", header=0, sep=\";\")\n",
        "\n",
        "# Manaus-3, Brasília-5\n",
        "i=3\n",
        "Array_DF_Estaduais[i]"
      ],
      "metadata": {
        "colab": {
          "base_uri": "https://localhost:8080/",
          "height": 475
        },
        "id": "NmWdA4JXIAZA",
        "outputId": "03c22223-5dd0-495d-a502-67cacee68d0c"
      },
      "execution_count": 7,
      "outputs": [
        {
          "output_type": "execute_result",
          "data": {
            "text/plain": [
              "      Ano          Campeão     Vice-campeão Terceiro colocado  \\\n",
              "0    1914  Manaos Athletic         Nacional   Manaós Sporting   \n",
              "1    1915  Manaos Athletic  Manaós Sporting         Rio Negro   \n",
              "2    1916         Nacional        Rio Negro        União S.P.   \n",
              "3    1917         Nacional        Rio Negro               NaN   \n",
              "4    1918         Nacional        Rio Negro               NaN   \n",
              "..    ...              ...              ...               ...   \n",
              "103  2019        Manaus FC       Fast Clube          Nacional   \n",
              "104  2020          Penarol        Manaus FC        Fast Clube   \n",
              "105  2021        Manaus FC     São Raimundo          Amazonas   \n",
              "106  2022        Manaus FC         Princesa          Nacional   \n",
              "107  2023      Amazonas FC         Manauara          Princesa   \n",
              "\n",
              "        Quarto colocado  \n",
              "0    Club Vasco da Gama  \n",
              "1                  Luso  \n",
              "2       Manaós Sporting  \n",
              "3                   NaN  \n",
              "4                   NaN  \n",
              "..                  ...  \n",
              "103             Penarol  \n",
              "104        São Raimundo  \n",
              "105            Princesa  \n",
              "106          Fast Clube  \n",
              "107            Nacional  \n",
              "\n",
              "[108 rows x 5 columns]"
            ],
            "text/html": [
              "\n",
              "  <div id=\"df-d41d8725-4be3-4f8b-842f-5052ae9fd9a0\" class=\"colab-df-container\">\n",
              "    <div>\n",
              "<style scoped>\n",
              "    .dataframe tbody tr th:only-of-type {\n",
              "        vertical-align: middle;\n",
              "    }\n",
              "\n",
              "    .dataframe tbody tr th {\n",
              "        vertical-align: top;\n",
              "    }\n",
              "\n",
              "    .dataframe thead th {\n",
              "        text-align: right;\n",
              "    }\n",
              "</style>\n",
              "<table border=\"1\" class=\"dataframe\">\n",
              "  <thead>\n",
              "    <tr style=\"text-align: right;\">\n",
              "      <th></th>\n",
              "      <th>Ano</th>\n",
              "      <th>Campeão</th>\n",
              "      <th>Vice-campeão</th>\n",
              "      <th>Terceiro colocado</th>\n",
              "      <th>Quarto colocado</th>\n",
              "    </tr>\n",
              "  </thead>\n",
              "  <tbody>\n",
              "    <tr>\n",
              "      <th>0</th>\n",
              "      <td>1914</td>\n",
              "      <td>Manaos Athletic</td>\n",
              "      <td>Nacional</td>\n",
              "      <td>Manaós Sporting</td>\n",
              "      <td>Club Vasco da Gama</td>\n",
              "    </tr>\n",
              "    <tr>\n",
              "      <th>1</th>\n",
              "      <td>1915</td>\n",
              "      <td>Manaos Athletic</td>\n",
              "      <td>Manaós Sporting</td>\n",
              "      <td>Rio Negro</td>\n",
              "      <td>Luso</td>\n",
              "    </tr>\n",
              "    <tr>\n",
              "      <th>2</th>\n",
              "      <td>1916</td>\n",
              "      <td>Nacional</td>\n",
              "      <td>Rio Negro</td>\n",
              "      <td>União S.P.</td>\n",
              "      <td>Manaós Sporting</td>\n",
              "    </tr>\n",
              "    <tr>\n",
              "      <th>3</th>\n",
              "      <td>1917</td>\n",
              "      <td>Nacional</td>\n",
              "      <td>Rio Negro</td>\n",
              "      <td>NaN</td>\n",
              "      <td>NaN</td>\n",
              "    </tr>\n",
              "    <tr>\n",
              "      <th>4</th>\n",
              "      <td>1918</td>\n",
              "      <td>Nacional</td>\n",
              "      <td>Rio Negro</td>\n",
              "      <td>NaN</td>\n",
              "      <td>NaN</td>\n",
              "    </tr>\n",
              "    <tr>\n",
              "      <th>...</th>\n",
              "      <td>...</td>\n",
              "      <td>...</td>\n",
              "      <td>...</td>\n",
              "      <td>...</td>\n",
              "      <td>...</td>\n",
              "    </tr>\n",
              "    <tr>\n",
              "      <th>103</th>\n",
              "      <td>2019</td>\n",
              "      <td>Manaus FC</td>\n",
              "      <td>Fast Clube</td>\n",
              "      <td>Nacional</td>\n",
              "      <td>Penarol</td>\n",
              "    </tr>\n",
              "    <tr>\n",
              "      <th>104</th>\n",
              "      <td>2020</td>\n",
              "      <td>Penarol</td>\n",
              "      <td>Manaus FC</td>\n",
              "      <td>Fast Clube</td>\n",
              "      <td>São Raimundo</td>\n",
              "    </tr>\n",
              "    <tr>\n",
              "      <th>105</th>\n",
              "      <td>2021</td>\n",
              "      <td>Manaus FC</td>\n",
              "      <td>São Raimundo</td>\n",
              "      <td>Amazonas</td>\n",
              "      <td>Princesa</td>\n",
              "    </tr>\n",
              "    <tr>\n",
              "      <th>106</th>\n",
              "      <td>2022</td>\n",
              "      <td>Manaus FC</td>\n",
              "      <td>Princesa</td>\n",
              "      <td>Nacional</td>\n",
              "      <td>Fast Clube</td>\n",
              "    </tr>\n",
              "    <tr>\n",
              "      <th>107</th>\n",
              "      <td>2023</td>\n",
              "      <td>Amazonas FC</td>\n",
              "      <td>Manauara</td>\n",
              "      <td>Princesa</td>\n",
              "      <td>Nacional</td>\n",
              "    </tr>\n",
              "  </tbody>\n",
              "</table>\n",
              "<p>108 rows × 5 columns</p>\n",
              "</div>\n",
              "    <div class=\"colab-df-buttons\">\n",
              "\n",
              "  <div class=\"colab-df-container\">\n",
              "    <button class=\"colab-df-convert\" onclick=\"convertToInteractive('df-d41d8725-4be3-4f8b-842f-5052ae9fd9a0')\"\n",
              "            title=\"Convert this dataframe to an interactive table.\"\n",
              "            style=\"display:none;\">\n",
              "\n",
              "  <svg xmlns=\"http://www.w3.org/2000/svg\" height=\"24px\" viewBox=\"0 -960 960 960\">\n",
              "    <path d=\"M120-120v-720h720v720H120Zm60-500h600v-160H180v160Zm220 220h160v-160H400v160Zm0 220h160v-160H400v160ZM180-400h160v-160H180v160Zm440 0h160v-160H620v160ZM180-180h160v-160H180v160Zm440 0h160v-160H620v160Z\"/>\n",
              "  </svg>\n",
              "    </button>\n",
              "\n",
              "  <style>\n",
              "    .colab-df-container {\n",
              "      display:flex;\n",
              "      gap: 12px;\n",
              "    }\n",
              "\n",
              "    .colab-df-convert {\n",
              "      background-color: #E8F0FE;\n",
              "      border: none;\n",
              "      border-radius: 50%;\n",
              "      cursor: pointer;\n",
              "      display: none;\n",
              "      fill: #1967D2;\n",
              "      height: 32px;\n",
              "      padding: 0 0 0 0;\n",
              "      width: 32px;\n",
              "    }\n",
              "\n",
              "    .colab-df-convert:hover {\n",
              "      background-color: #E2EBFA;\n",
              "      box-shadow: 0px 1px 2px rgba(60, 64, 67, 0.3), 0px 1px 3px 1px rgba(60, 64, 67, 0.15);\n",
              "      fill: #174EA6;\n",
              "    }\n",
              "\n",
              "    .colab-df-buttons div {\n",
              "      margin-bottom: 4px;\n",
              "    }\n",
              "\n",
              "    [theme=dark] .colab-df-convert {\n",
              "      background-color: #3B4455;\n",
              "      fill: #D2E3FC;\n",
              "    }\n",
              "\n",
              "    [theme=dark] .colab-df-convert:hover {\n",
              "      background-color: #434B5C;\n",
              "      box-shadow: 0px 1px 3px 1px rgba(0, 0, 0, 0.15);\n",
              "      filter: drop-shadow(0px 1px 2px rgba(0, 0, 0, 0.3));\n",
              "      fill: #FFFFFF;\n",
              "    }\n",
              "  </style>\n",
              "\n",
              "    <script>\n",
              "      const buttonEl =\n",
              "        document.querySelector('#df-d41d8725-4be3-4f8b-842f-5052ae9fd9a0 button.colab-df-convert');\n",
              "      buttonEl.style.display =\n",
              "        google.colab.kernel.accessAllowed ? 'block' : 'none';\n",
              "\n",
              "      async function convertToInteractive(key) {\n",
              "        const element = document.querySelector('#df-d41d8725-4be3-4f8b-842f-5052ae9fd9a0');\n",
              "        const dataTable =\n",
              "          await google.colab.kernel.invokeFunction('convertToInteractive',\n",
              "                                                    [key], {});\n",
              "        if (!dataTable) return;\n",
              "\n",
              "        const docLinkHtml = 'Like what you see? Visit the ' +\n",
              "          '<a target=\"_blank\" href=https://colab.research.google.com/notebooks/data_table.ipynb>data table notebook</a>'\n",
              "          + ' to learn more about interactive tables.';\n",
              "        element.innerHTML = '';\n",
              "        dataTable['output_type'] = 'display_data';\n",
              "        await google.colab.output.renderOutput(dataTable, element);\n",
              "        const docLink = document.createElement('div');\n",
              "        docLink.innerHTML = docLinkHtml;\n",
              "        element.appendChild(docLink);\n",
              "      }\n",
              "    </script>\n",
              "  </div>\n",
              "\n",
              "\n",
              "<div id=\"df-72188cb6-7442-4242-81f4-52ea594c67aa\">\n",
              "  <button class=\"colab-df-quickchart\" onclick=\"quickchart('df-72188cb6-7442-4242-81f4-52ea594c67aa')\"\n",
              "            title=\"Suggest charts\"\n",
              "            style=\"display:none;\">\n",
              "\n",
              "<svg xmlns=\"http://www.w3.org/2000/svg\" height=\"24px\"viewBox=\"0 0 24 24\"\n",
              "     width=\"24px\">\n",
              "    <g>\n",
              "        <path d=\"M19 3H5c-1.1 0-2 .9-2 2v14c0 1.1.9 2 2 2h14c1.1 0 2-.9 2-2V5c0-1.1-.9-2-2-2zM9 17H7v-7h2v7zm4 0h-2V7h2v10zm4 0h-2v-4h2v4z\"/>\n",
              "    </g>\n",
              "</svg>\n",
              "  </button>\n",
              "\n",
              "<style>\n",
              "  .colab-df-quickchart {\n",
              "      --bg-color: #E8F0FE;\n",
              "      --fill-color: #1967D2;\n",
              "      --hover-bg-color: #E2EBFA;\n",
              "      --hover-fill-color: #174EA6;\n",
              "      --disabled-fill-color: #AAA;\n",
              "      --disabled-bg-color: #DDD;\n",
              "  }\n",
              "\n",
              "  [theme=dark] .colab-df-quickchart {\n",
              "      --bg-color: #3B4455;\n",
              "      --fill-color: #D2E3FC;\n",
              "      --hover-bg-color: #434B5C;\n",
              "      --hover-fill-color: #FFFFFF;\n",
              "      --disabled-bg-color: #3B4455;\n",
              "      --disabled-fill-color: #666;\n",
              "  }\n",
              "\n",
              "  .colab-df-quickchart {\n",
              "    background-color: var(--bg-color);\n",
              "    border: none;\n",
              "    border-radius: 50%;\n",
              "    cursor: pointer;\n",
              "    display: none;\n",
              "    fill: var(--fill-color);\n",
              "    height: 32px;\n",
              "    padding: 0;\n",
              "    width: 32px;\n",
              "  }\n",
              "\n",
              "  .colab-df-quickchart:hover {\n",
              "    background-color: var(--hover-bg-color);\n",
              "    box-shadow: 0 1px 2px rgba(60, 64, 67, 0.3), 0 1px 3px 1px rgba(60, 64, 67, 0.15);\n",
              "    fill: var(--button-hover-fill-color);\n",
              "  }\n",
              "\n",
              "  .colab-df-quickchart-complete:disabled,\n",
              "  .colab-df-quickchart-complete:disabled:hover {\n",
              "    background-color: var(--disabled-bg-color);\n",
              "    fill: var(--disabled-fill-color);\n",
              "    box-shadow: none;\n",
              "  }\n",
              "\n",
              "  .colab-df-spinner {\n",
              "    border: 2px solid var(--fill-color);\n",
              "    border-color: transparent;\n",
              "    border-bottom-color: var(--fill-color);\n",
              "    animation:\n",
              "      spin 1s steps(1) infinite;\n",
              "  }\n",
              "\n",
              "  @keyframes spin {\n",
              "    0% {\n",
              "      border-color: transparent;\n",
              "      border-bottom-color: var(--fill-color);\n",
              "      border-left-color: var(--fill-color);\n",
              "    }\n",
              "    20% {\n",
              "      border-color: transparent;\n",
              "      border-left-color: var(--fill-color);\n",
              "      border-top-color: var(--fill-color);\n",
              "    }\n",
              "    30% {\n",
              "      border-color: transparent;\n",
              "      border-left-color: var(--fill-color);\n",
              "      border-top-color: var(--fill-color);\n",
              "      border-right-color: var(--fill-color);\n",
              "    }\n",
              "    40% {\n",
              "      border-color: transparent;\n",
              "      border-right-color: var(--fill-color);\n",
              "      border-top-color: var(--fill-color);\n",
              "    }\n",
              "    60% {\n",
              "      border-color: transparent;\n",
              "      border-right-color: var(--fill-color);\n",
              "    }\n",
              "    80% {\n",
              "      border-color: transparent;\n",
              "      border-right-color: var(--fill-color);\n",
              "      border-bottom-color: var(--fill-color);\n",
              "    }\n",
              "    90% {\n",
              "      border-color: transparent;\n",
              "      border-bottom-color: var(--fill-color);\n",
              "    }\n",
              "  }\n",
              "</style>\n",
              "\n",
              "  <script>\n",
              "    async function quickchart(key) {\n",
              "      const quickchartButtonEl =\n",
              "        document.querySelector('#' + key + ' button');\n",
              "      quickchartButtonEl.disabled = true;  // To prevent multiple clicks.\n",
              "      quickchartButtonEl.classList.add('colab-df-spinner');\n",
              "      try {\n",
              "        const charts = await google.colab.kernel.invokeFunction(\n",
              "            'suggestCharts', [key], {});\n",
              "      } catch (error) {\n",
              "        console.error('Error during call to suggestCharts:', error);\n",
              "      }\n",
              "      quickchartButtonEl.classList.remove('colab-df-spinner');\n",
              "      quickchartButtonEl.classList.add('colab-df-quickchart-complete');\n",
              "    }\n",
              "    (() => {\n",
              "      let quickchartButtonEl =\n",
              "        document.querySelector('#df-72188cb6-7442-4242-81f4-52ea594c67aa button');\n",
              "      quickchartButtonEl.style.display =\n",
              "        google.colab.kernel.accessAllowed ? 'block' : 'none';\n",
              "    })();\n",
              "  </script>\n",
              "</div>\n",
              "    </div>\n",
              "  </div>\n"
            ]
          },
          "metadata": {},
          "execution_count": 7
        }
      ]
    },
    {
      "cell_type": "code",
      "source": [
        "# Array_DF_Estaduais[i].to_csv(\"Amazonense.csv\")\n",
        "# # Grava datDataFrame_Geral em Googe drive\n",
        "drive.mount('/content/drive')\n",
        "# DataFrame_Geral.to_csv('./drive/MyDrive/DataFrame_Geral.csv')"
      ],
      "metadata": {
        "id": "Fbc_aiJ3Rc_8",
        "colab": {
          "base_uri": "https://localhost:8080/"
        },
        "outputId": "16335ea2-d350-410d-f929-4e0b9c808c94"
      },
      "execution_count": 21,
      "outputs": [
        {
          "output_type": "stream",
          "name": "stdout",
          "text": [
            "Drive already mounted at /content/drive; to attempt to forcibly remount, call drive.mount(\"/content/drive\", force_remount=True).\n"
          ]
        }
      ]
    },
    {
      "cell_type": "code",
      "source": [
        "DF_Amazonense.to_csv(drive/MyDrive/Marlon_Cesar_Santos_Oliveira/Dados_EM_CSV/Amazonense.csv)\n",
        "DF_Amapaense.to_csv(drive/MyDrive/Marlon_Cesar_Santos_Oliveira/Dados_EM_CSV/Amapaense.csv)\n",
        "DF_Acreano.to_csv(drive/MyDrive/Marlon_Cesar_Santos_Oliveira/Dados_EM_CSV/Acreano.csv)\n",
        "DF_Alagoano.to_csv(drive/MyDrive/Marlon_Cesar_Santos_Oliveira/Dados_EM_CSV/Alagoano.csv)\n",
        "DF_Baiano.to_csv(drive/MyDrive/Marlon_Cesar_Santos_Oliveira/Dados_EM_CSV/Baiano.csv)\n",
        "DF_Brasiliense.to_csv(drive/MyDrive/Marlon_Cesar_Santos_Oliveira/Dados_EM_CSV/Brasiliense.csv)\n",
        "DF_Carioca.to_csv(drive/MyDrive/Marlon_Cesar_Santos_Oliveira/Dados_EM_CSV/Carioca.csv)\n",
        "DF_Cearense.to_csv(drive/MyDrive/Marlon_Cesar_Santos_Oliveira/Dados_EM_CSV/Cearense.csv)\n",
        "DF_Goiano.to_csv(drive/MyDrive/Marlon_Cesar_Santos_Oliveira/Dados_EM_CSV/Goiano.csv)\n",
        "DF_Paulista.to_csv(drive/MyDrive/Marlon_Cesar_Santos_Oliveira/Dados_EM_CSV/Paulista.csv)\n",
        "DF_Pernanbucano.to_csv(drive/MyDrive/Marlon_Cesar_Santos_Oliveira/Dados_EM_CSV/Pernanbucano.csv)\n",
        "DF_Paranaense.to_csv(drive/MyDrive/Marlon_Cesar_Santos_Oliveira/Dados_EM_CSV/Paranaense.csv)"
      ],
      "metadata": {
        "colab": {
          "base_uri": "https://localhost:8080/",
          "height": 351
        },
        "id": "ikalYsy6Bto5",
        "outputId": "b3cf62fd-fdff-47a1-e567-dd85ce997afb"
      },
      "execution_count": 16,
      "outputs": [
        {
          "output_type": "error",
          "ename": "NameError",
          "evalue": "ignored",
          "traceback": [
            "\u001b[0;31m---------------------------------------------------------------------------\u001b[0m",
            "\u001b[0;31mNameError\u001b[0m                                 Traceback (most recent call last)",
            "\u001b[0;32m<ipython-input-16-f8ead96e8a27>\u001b[0m in \u001b[0;36m<cell line: 1>\u001b[0;34m()\u001b[0m\n\u001b[0;32m----> 1\u001b[0;31m \u001b[0mDF_Amazonense\u001b[0m\u001b[0;34m.\u001b[0m\u001b[0mto_csv\u001b[0m\u001b[0;34m(\u001b[0m\u001b[0mdrive\u001b[0m\u001b[0;34m/\u001b[0m\u001b[0mMyDrive\u001b[0m\u001b[0;34m/\u001b[0m\u001b[0mMarlon_Cesar_Santos_Oliveira\u001b[0m\u001b[0;34m/\u001b[0m\u001b[0mDados_EM_CSV\u001b[0m\u001b[0;34m/\u001b[0m\u001b[0mAmazonense\u001b[0m\u001b[0;34m.\u001b[0m\u001b[0mcsv\u001b[0m\u001b[0;34m)\u001b[0m\u001b[0;34m\u001b[0m\u001b[0;34m\u001b[0m\u001b[0m\n\u001b[0m\u001b[1;32m      2\u001b[0m \u001b[0mDF_Amapaense\u001b[0m\u001b[0;34m.\u001b[0m\u001b[0mto_csv\u001b[0m\u001b[0;34m(\u001b[0m\u001b[0mdrive\u001b[0m\u001b[0;34m/\u001b[0m\u001b[0mMyDrive\u001b[0m\u001b[0;34m/\u001b[0m\u001b[0mMarlon_Cesar_Santos_Oliveira\u001b[0m\u001b[0;34m/\u001b[0m\u001b[0mDados_EM_CSV\u001b[0m\u001b[0;34m/\u001b[0m\u001b[0mAmapaense\u001b[0m\u001b[0;34m.\u001b[0m\u001b[0mcsv\u001b[0m\u001b[0;34m)\u001b[0m\u001b[0;34m\u001b[0m\u001b[0;34m\u001b[0m\u001b[0m\n\u001b[1;32m      3\u001b[0m \u001b[0mDF_Acreano\u001b[0m\u001b[0;34m.\u001b[0m\u001b[0mto_csv\u001b[0m\u001b[0;34m(\u001b[0m\u001b[0mdrive\u001b[0m\u001b[0;34m/\u001b[0m\u001b[0mMyDrive\u001b[0m\u001b[0;34m/\u001b[0m\u001b[0mMarlon_Cesar_Santos_Oliveira\u001b[0m\u001b[0;34m/\u001b[0m\u001b[0mDados_EM_CSV\u001b[0m\u001b[0;34m/\u001b[0m\u001b[0mAcreano\u001b[0m\u001b[0;34m.\u001b[0m\u001b[0mcsv\u001b[0m\u001b[0;34m)\u001b[0m\u001b[0;34m\u001b[0m\u001b[0;34m\u001b[0m\u001b[0m\n\u001b[1;32m      4\u001b[0m \u001b[0mDF_Alagoano\u001b[0m\u001b[0;34m.\u001b[0m\u001b[0mto_csv\u001b[0m\u001b[0;34m(\u001b[0m\u001b[0mdrive\u001b[0m\u001b[0;34m/\u001b[0m\u001b[0mMyDrive\u001b[0m\u001b[0;34m/\u001b[0m\u001b[0mMarlon_Cesar_Santos_Oliveira\u001b[0m\u001b[0;34m/\u001b[0m\u001b[0mDados_EM_CSV\u001b[0m\u001b[0;34m/\u001b[0m\u001b[0mAlagoano\u001b[0m\u001b[0;34m.\u001b[0m\u001b[0mcsv\u001b[0m\u001b[0;34m)\u001b[0m\u001b[0;34m\u001b[0m\u001b[0;34m\u001b[0m\u001b[0m\n\u001b[1;32m      5\u001b[0m \u001b[0mDF_Baiano\u001b[0m\u001b[0;34m.\u001b[0m\u001b[0mto_csv\u001b[0m\u001b[0;34m(\u001b[0m\u001b[0mdrive\u001b[0m\u001b[0;34m/\u001b[0m\u001b[0mMyDrive\u001b[0m\u001b[0;34m/\u001b[0m\u001b[0mMarlon_Cesar_Santos_Oliveira\u001b[0m\u001b[0;34m/\u001b[0m\u001b[0mDados_EM_CSV\u001b[0m\u001b[0;34m/\u001b[0m\u001b[0mBaiano\u001b[0m\u001b[0;34m.\u001b[0m\u001b[0mcsv\u001b[0m\u001b[0;34m)\u001b[0m\u001b[0;34m\u001b[0m\u001b[0;34m\u001b[0m\u001b[0m\n",
            "\u001b[0;31mNameError\u001b[0m: name 'MyDrive' is not defined"
          ]
        }
      ]
    },
    {
      "cell_type": "code",
      "source": [
        "DF_Amazonense.to_csv(/drive/MyDrive/Marlon_Cesar_Santos_Oliveira/Dados_EM_CSV/Amazonense.csv)"
      ],
      "metadata": {
        "colab": {
          "base_uri": "https://localhost:8080/",
          "height": 158
        },
        "id": "iEGBFDJo7RY2",
        "outputId": "9dffec12-9a8f-49e2-d7ce-ef52488f0ec3"
      },
      "execution_count": 20,
      "outputs": [
        {
          "output_type": "error",
          "ename": "SyntaxError",
          "evalue": "ignored",
          "traceback": [
            "\u001b[0;36m  File \u001b[0;32m\"<ipython-input-20-a7aea4b07a7d>\"\u001b[0;36m, line \u001b[0;32m1\u001b[0m\n\u001b[0;31m    DF_Amazonense.to_csv(/Marlon_Cesar_Santos_Oliveira/Dados_EM_CSV/Amazonense.csv)\u001b[0m\n\u001b[0m                         ^\u001b[0m\n\u001b[0;31mSyntaxError\u001b[0m\u001b[0;31m:\u001b[0m invalid syntax\n"
          ]
        }
      ]
    },
    {
      "cell_type": "code",
      "source": [
        "Amazonense.to_csv(./drive/MyDrive/Marlon_Cesar_Santos_Oliveira/Dados_EM_CSV/Amazonense.csv)"
      ],
      "metadata": {
        "colab": {
          "base_uri": "https://localhost:8080/",
          "height": 178
        },
        "id": "7MRyKQSU5Pmm",
        "outputId": "0c00107a-783b-467d-d131-ca767558284b"
      },
      "execution_count": 22,
      "outputs": [
        {
          "output_type": "error",
          "ename": "SyntaxError",
          "evalue": "ignored",
          "traceback": [
            "\u001b[0;36m  File \u001b[0;32m\"<ipython-input-22-36870eb8696d>\"\u001b[0;36m, line \u001b[0;32m1\u001b[0m\n\u001b[0;31m    Amazonense.to_csv(./drive/MyDrive/Marlon_Cesar_Santos_Oliveira/Dados_EM_CSV/Amazonense.csv)\u001b[0m\n\u001b[0m                      ^\u001b[0m\n\u001b[0;31mSyntaxError\u001b[0m\u001b[0;31m:\u001b[0m invalid syntax\n"
          ]
        }
      ]
    },
    {
      "cell_type": "code",
      "source": [],
      "metadata": {
        "id": "-ksSAIhw8yZW"
      },
      "execution_count": null,
      "outputs": []
    },
    {
      "cell_type": "code",
      "source": [],
      "metadata": {
        "id": "NJXoP7h-5Xd2"
      },
      "execution_count": null,
      "outputs": []
    }
  ]
}